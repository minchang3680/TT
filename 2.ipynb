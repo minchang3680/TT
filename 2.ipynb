{
 "cells": [
  {
   "cell_type": "code",
   "execution_count": null,
   "metadata": {},
   "outputs": [],
   "source": [
    "# 실습. numpy 모듈 사용해보기1\n",
    "# 1. 10개의 0으로 채워진 array를 만들고 출력해보세요.\n",
    "# 2. 1번에서 만들어진 array에서 5번쨰 값을 1로 바꾸고 출력해주세요.\n",
    "# 3. 10부터 30까지의 수로 이뤄진 array를 만들고 출력해주세요.\n",
    "# 4. 0부터 99까지의 난수로 이루어진 2x2 array를 만들고 출력해주세요.\n",
    "# 0부터 1사이의 난수로 이루어진 2x4 array를 만들고 출력해주세요."
   ]
  },
  {
   "cell_type": "code",
   "execution_count": 29,
   "metadata": {},
   "outputs": [
    {
     "name": "stdout",
     "output_type": "stream",
     "text": [
      "[0. 0. 0. 0. 0. 0. 0. 0. 0. 0.]\n",
      "[0. 0. 0. 0. 1. 0. 0. 0. 0. 0.]\n",
      "[10 11 12 13 14 15 16 17 18 19 20 21 22 23 24 25 26 27 28 29 30]\n",
      "[[49 37]\n",
      " [57 72]]\n",
      "[[0.73107372 0.1366699  0.43318445 0.58435961]\n",
      " [0.65517799 0.30448094 0.65203168 0.15498775]]\n"
     ]
    }
   ],
   "source": [
    "import numpy  #1\n",
    "x = numpy.zeros(10)\n",
    "print(x)\n",
    "\n",
    "x[4] = 1#2\n",
    "print(x)\n",
    "\n",
    "print(numpy.arange(10,31))  #3\n",
    "\n",
    "print(numpy.random.randint(0,99,size=(2,2)))  #4\n",
    "\n",
    "print(numpy.random.rand(2,4))  #5 "
   ]
  },
  {
   "cell_type": "code",
   "execution_count": 5,
   "metadata": {},
   "outputs": [
    {
     "name": "stdout",
     "output_type": "stream",
     "text": [
      "[0, 0, 0, 0, 1, 0, 1, 0, 0, 0, 0, 0]\n"
     ]
    }
   ],
   "source": [
    "# 실습. numpy 모듈 사용해보기2\n",
    "# 6. 35 ~ 74 까지의 순차적인 수로 이뤄진 1차원 배열을 만들고 10x4 행렬로 변환후 출력\n",
    "# 7. 6에서 만든 배열을 맨 끝의 행부터 역순으로 출력\n",
    "# 8. 6에서 만들 배열 중 두 번쨰 행부터 마지막 직전 행까지, 세번쨰 열부터 마지막 열까지 슬라이싱 해서 출력\n",
    "# 9. 6에서 만든 배열에서 마지막 열에 해당하는 모든 값을 출력(1차원 배열로)\n",
    "#     #9-1 6번에서 만든 배열에서 마지막 열에 해당하는 모든 값을 출력(2차원 배열로)\n",
    "# 10. 9-1에서 만든 배열을 역순으로 정렬 후 출력\n",
    "# 11. 1 ~ 50까지 난수로 된 5x6 배열을 만들고, 배열에서 짝수만 선택해 출력하는 코드 작성"
   ]
  },
  {
   "cell_type": "code",
   "execution_count": 151,
   "metadata": {},
   "outputs": [
    {
     "name": "stdout",
     "output_type": "stream",
     "text": [
      "[[35 36 37 38]\n",
      " [39 40 41 42]\n",
      " [43 44 45 46]\n",
      " [47 48 49 50]\n",
      " [51 52 53 54]\n",
      " [55 56 57 58]\n",
      " [59 60 61 62]\n",
      " [63 64 65 66]\n",
      " [67 68 69 70]\n",
      " [71 72 73 74]]\n"
     ]
    }
   ],
   "source": [
    "# 6. 35 ~ 74 까지의 순차적인 수로 이뤄진 1차원 배열을 만들고 10x4 행렬로 변환후 출력\n",
    "import numpy as np\n",
    "a = np.arange(35,75)\n",
    "b =a.reshape(10,4)\n",
    "print(b)\n"
   ]
  },
  {
   "cell_type": "code",
   "execution_count": 147,
   "metadata": {},
   "outputs": [
    {
     "name": "stdout",
     "output_type": "stream",
     "text": [
      "[[71 72 73 74]\n",
      " [67 68 69 70]\n",
      " [63 64 65 66]\n",
      " [59 60 61 62]\n",
      " [55 56 57 58]\n",
      " [51 52 53 54]\n",
      " [47 48 49 50]\n",
      " [43 44 45 46]\n",
      " [39 40 41 42]\n",
      " [35 36 37 38]]\n"
     ]
    }
   ],
   "source": [
    "# 7. 6에서 만든 배열을 맨 끝의 행부터 역순으로 출력\n",
    "c = b[::-1]\n",
    "print(c)"
   ]
  },
  {
   "cell_type": "code",
   "execution_count": 150,
   "metadata": {},
   "outputs": [
    {
     "name": "stdout",
     "output_type": "stream",
     "text": [
      "[[69 70]\n",
      " [65 66]\n",
      " [61 62]\n",
      " [57 58]\n",
      " [53 54]\n",
      " [49 50]\n",
      " [45 46]\n",
      " [41 42]]\n"
     ]
    }
   ],
   "source": [
    "# 8. 6에서 만들 배열 중 두 번쨰 행부터 마지막 직전 행까지, 세번쨰 열부터 마지막 열까지 슬라이싱 해서 출력\n",
    "print(c[1:-1,2:])"
   ]
  },
  {
   "cell_type": "code",
   "execution_count": 160,
   "metadata": {},
   "outputs": [
    {
     "name": "stdout",
     "output_type": "stream",
     "text": [
      "[71 72 73 74]\n",
      "[[71 72]\n",
      " [73 74]]\n"
     ]
    }
   ],
   "source": [
    "# 9. 6에서 만든 배열에서 마지막 열에 해당하는 모든 값을 출력(1차원 배열로)\n",
    "     #9-1 6번에서 만든 배열에서 마지막 열에 해당하는 모든 값을 출력(2차원 배열로)\n",
    "\n",
    "d = b[-1:].flatten()\n",
    "print(d)\n",
    "\n",
    "e = d.reshape(2,2)\n",
    "print(e)"
   ]
  },
  {
   "cell_type": "code",
   "execution_count": 173,
   "metadata": {},
   "outputs": [
    {
     "name": "stdout",
     "output_type": "stream",
     "text": [
      "[[73 74]\n",
      " [71 72]]\n"
     ]
    }
   ],
   "source": [
    "# 10. 9-1에서 만든 배열을 역순으로 정렬 후 출력\n",
    "f = e[::-1]\n",
    "print(f)"
   ]
  },
  {
   "cell_type": "code",
   "execution_count": 179,
   "metadata": {},
   "outputs": [
    {
     "name": "stdout",
     "output_type": "stream",
     "text": [
      "[[42 27 49 19 21 11]\n",
      " [ 2 44  4 42 32 36]\n",
      " [24 25 12 37 34 48]\n",
      " [29 48 37 41 43 44]\n",
      " [26 36 41 24 42 23]]\n",
      "[]\n"
     ]
    }
   ],
   "source": [
    "#11. 1 ~ 50까지 난수로 된 5x6 배열을 만들고, 배열에서 짝수만 선택해 출력하는 코드 작성\n",
    "g = np.random.randint(1,51,size=(5,6))\n",
    "print(g)\n",
    "print(g[g/2 == 0])"
   ]
  },
  {
   "cell_type": "code",
   "execution_count": null,
   "metadata": {},
   "outputs": [],
   "source": []
  }
 ],
 "metadata": {
  "kernelspec": {
   "display_name": "base",
   "language": "python",
   "name": "python3"
  },
  "language_info": {
   "codemirror_mode": {
    "name": "ipython",
    "version": 3
   },
   "file_extension": ".py",
   "mimetype": "text/x-python",
   "name": "python",
   "nbconvert_exporter": "python",
   "pygments_lexer": "ipython3",
   "version": "3.12.7"
  }
 },
 "nbformat": 4,
 "nbformat_minor": 2
}
