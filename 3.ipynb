{
 "cells": [
  {
   "cell_type": "code",
   "execution_count": 4,
   "metadata": {},
   "outputs": [
    {
     "name": "stdout",
     "output_type": "stream",
     "text": [
      "[[[1 2]\n",
      "  [3 4]]]\n",
      "(1, 2, 2)\n"
     ]
    }
   ],
   "source": [
    "import numpy as np\n",
    "# a = np.array([[1,2],[3,4]])\n",
    "# expanded = np.expand_dims(a,0)\n",
    "# print(expanded)\n",
    "# print(expanded.shape)"
   ]
  },
  {
   "cell_type": "code",
   "execution_count": 8,
   "metadata": {},
   "outputs": [
    {
     "name": "stdout",
     "output_type": "stream",
     "text": [
      "[1 2 3 4]\n",
      "[1 2 2 2]\n"
     ]
    }
   ],
   "source": [
    "# a = [1,2,2,3,3,4,4]\n",
    "# u_a,indexs = np.unique(a,return_counts=True)\n",
    "# print(u_a)\n",
    "# print(indexs)"
   ]
  },
  {
   "cell_type": "code",
   "execution_count": 18,
   "metadata": {},
   "outputs": [
    {
     "name": "stdout",
     "output_type": "stream",
     "text": [
      "[1 2 3 4]\n",
      "[0 1 3 4]\n",
      "[2 2 3 2]\n"
     ]
    }
   ],
   "source": [
    "# a = [1,2,2,3,4,3,4,3,1]\n",
    "# u_a,indexs,counts = np.unique(a,return_index=True,return_counts=True)\n",
    "# print(u_a)\n",
    "# print(indexs)\n",
    "# print(counts)"
   ]
  },
  {
   "cell_type": "code",
   "execution_count": 25,
   "metadata": {},
   "outputs": [
    {
     "name": "stdout",
     "output_type": "stream",
     "text": [
      "[1 2 3 4]\n",
      "[2 2 3 2]\n",
      "[0 1 3 4]\n"
     ]
    }
   ],
   "source": [
    "# a = [1,2,2,3,4,3,4,3,1]\n",
    "# u_a,counts,indexs = np.unique(a,return_counts=True,return_index=True)\n",
    "# print(u_a)\n",
    "# print(indexs)\n",
    "# print(counts)"
   ]
  },
  {
   "cell_type": "code",
   "execution_count": 26,
   "metadata": {},
   "outputs": [
    {
     "name": "stdout",
     "output_type": "stream",
     "text": [
      "2 3 5\n"
     ]
    }
   ],
   "source": [
    "# def add(a=1, b=1):\n",
    "#     return a,b,a+b  # 리턴한 순서대로 print(출력) 결과가 나온다.\n",
    "\n",
    "# a,b,sum = add(2,3)\n",
    "# print(a,b,sum)"
   ]
  },
  {
   "cell_type": "code",
   "execution_count": 49,
   "metadata": {},
   "outputs": [
    {
     "name": "stdout",
     "output_type": "stream",
     "text": [
      "a [1 4 2 3]\n",
      "b [1 2 3 4]\n",
      "c [0 2 3 1]\n",
      "cc [1 2 3 4]\n"
     ]
    },
    {
     "data": {
      "text/plain": [
       "array([[1, 4, 2, 3]])"
      ]
     },
     "execution_count": 49,
     "metadata": {},
     "output_type": "execute_result"
    }
   ],
   "source": [
    "import numpy as np\n",
    "a = np.array([1,4,2,3])\n",
    "b = np.sort(a)  # a[np.argsort(a)]와 동일\n",
    "print(f'a {a}')\n",
    "print(f'b {b}')\n",
    "c = np.argsort(a) # sort 했을떄 다시 돌아갈 주소를 찾는 느낌.?\n",
    "print(f\"c {c}\")\n",
    "print(f'cc {a[c]}')\n",
    "a[c.sort()]"
   ]
  },
  {
   "cell_type": "code",
   "execution_count": 50,
   "metadata": {},
   "outputs": [
    {
     "data": {
      "text/plain": [
       "<function min at 0x000001C4251CFF30>"
      ]
     },
     "execution_count": 50,
     "metadata": {},
     "output_type": "execute_result"
    }
   ],
   "source": [
    "x = np.array([1,4,2,3,])\n",
    "np.mean(x)\n",
    "np.std(x)\n",
    "np.var(x)\n",
    "np.max\n",
    "np.min\n"
   ]
  },
  {
   "cell_type": "code",
   "execution_count": 44,
   "metadata": {},
   "outputs": [],
   "source": [
    "# 실습 numpy 모듈 사용해보기2\n",
    "# [1,1,2,3,4,5,5,5,5,7,8,9,10,11,24,100]\n",
    "# * 위와 같은 데이터가 있을떄\n",
    "# 1. 중복을 제거한 배열 출력\n",
    "# 2. 1의 결과의 최대 , 최소, 평균값 출력\n",
    "# 3. 1의 결과의 모든 합 출력\n",
    "# 4. 중복을 제거하지 않은 배열의 중간값 출력.\n"
   ]
  },
  {
   "cell_type": "code",
   "execution_count": 53,
   "metadata": {},
   "outputs": [
    {
     "name": "stdout",
     "output_type": "stream",
     "text": [
      "[  1   2   3   4   5   7   8   9  10  11  24 100]\n"
     ]
    }
   ],
   "source": [
    "a = [1,1,2,3,4,5,5,5,5,7,8,9,10,11,24,100]\n",
    "# 1. 중복을 제거한 배열 출력\n",
    "import numpy as np\n",
    "import math\n",
    "a1 = np.unique(a)\n",
    "print(a1)"
   ]
  },
  {
   "cell_type": "code",
   "execution_count": 56,
   "metadata": {},
   "outputs": [
    {
     "name": "stdout",
     "output_type": "stream",
     "text": [
      "100\n",
      "1\n",
      "15.333333333333334\n"
     ]
    }
   ],
   "source": [
    "# 2. 1의 결과의 최대 , 최소, 평균값 출력\n",
    "#최대\n",
    "a21 = a1.max()\n",
    "print(a21)\n",
    "a22= a1.min()\n",
    "print(a22)\n",
    "a23 = a1.mean()\n",
    "print(a23)"
   ]
  },
  {
   "cell_type": "code",
   "execution_count": 62,
   "metadata": {},
   "outputs": [
    {
     "name": "stdout",
     "output_type": "stream",
     "text": [
      "184\n"
     ]
    }
   ],
   "source": [
    "# 3. 1의 결과의 모든 합 출력\n",
    "a3 = np.sum(a1)\n",
    "print(a3)"
   ]
  },
  {
   "cell_type": "code",
   "execution_count": 64,
   "metadata": {},
   "outputs": [
    {
     "name": "stdout",
     "output_type": "stream",
     "text": [
      "5.0\n"
     ]
    }
   ],
   "source": [
    "import numpy as np\n",
    "# 4. 중복을 제거하지 않은 배열의 중간값 출력.\n",
    "a4 = np.median(a)\n",
    "print(a4)"
   ]
  },
  {
   "cell_type": "code",
   "execution_count": 113,
   "metadata": {},
   "outputs": [
    {
     "name": "stdout",
     "output_type": "stream",
     "text": [
      "[[  0   1   2   3   4]\n",
      " [-99   6 -99   8 -99]\n",
      " [-99  11 -99  13 -99]]\n"
     ]
    }
   ],
   "source": [
    "# 실습 Numpy 모듈 사용해보기3\n",
    "x = np.arange(15,dtype = np.int64).reshape(3,5)\n",
    "x[1:,::2] = -99\n",
    "print(x)\n",
    "# * 위와 같은 데이터가 있을 때\n",
    "# 1. 1열의 최대, 최소, 평균값 출력\n",
    "# 2. 2행의 모든 합 출력\n",
    "# 3. 실습 2번 1차원 배열을 argsort 이용하여 내림차순 정렬."
   ]
  },
  {
   "cell_type": "code",
   "execution_count": 74,
   "metadata": {},
   "outputs": [
    {
     "name": "stdout",
     "output_type": "stream",
     "text": [
      "[ 4  8 13]\n",
      "[  0 -99 -99]\n",
      "[  2.  -56.6 -54.6]\n"
     ]
    }
   ],
   "source": [
    "# 1. 1열의 최대, 최소, 평균값 출력\n",
    "x11 = x.max(axis=1)\n",
    "print(x11)\n",
    "x12 = x.min(axis=1)\n",
    "print(x12)\n",
    "x13 = x.mean(axis=1)\n",
    "print(x13)"
   ]
  },
  {
   "cell_type": "code",
   "execution_count": 124,
   "metadata": {},
   "outputs": [
    {
     "name": "stdout",
     "output_type": "stream",
     "text": [
      "-283\n"
     ]
    }
   ],
   "source": [
    "# 2. 2행의 모든 합 출력\n",
    "x2 = x[1]\n",
    "print(sum(x2))"
   ]
  },
  {
   "cell_type": "code",
   "execution_count": 111,
   "metadata": {},
   "outputs": [
    {
     "name": "stdout",
     "output_type": "stream",
     "text": [
      "[ 0  1  2  3  4  5  6  7  8  9 10 11 12 13 14 15]\n",
      "[100  24  11  10   9   8   7   5   5   5   5   4   3   2   1   1]\n"
     ]
    }
   ],
   "source": [
    "# 3. 실습 2번 1차원 배열을 argsort 이용하여 내림차순 정렬.\n",
    "a = [1,1,2,3,4,5,5,5,5,7,8,9,10,11,24,100]\n",
    "x3 =np.argsort(a)\n",
    "print(x3)\n",
    "x31 = np.array(a) # 원본값을 정렬한 것에 argsort한 값을 넣으니 기존 값이 반환된다.\n",
    "x32 = x31[x3]  # array를 한 것에 꼭 값을 넣어야한다. \n",
    "print(x32[::-1])"
   ]
  }
 ],
 "metadata": {
  "kernelspec": {
   "display_name": "base",
   "language": "python",
   "name": "python3"
  },
  "language_info": {
   "codemirror_mode": {
    "name": "ipython",
    "version": 3
   },
   "file_extension": ".py",
   "mimetype": "text/x-python",
   "name": "python",
   "nbconvert_exporter": "python",
   "pygments_lexer": "ipython3",
   "version": "3.12.7"
  }
 },
 "nbformat": 4,
 "nbformat_minor": 2
}
