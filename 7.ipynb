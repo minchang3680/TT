{
 "cells": [
  {
   "cell_type": "code",
   "execution_count": 7,
   "metadata": {},
   "outputs": [
    {
     "name": "stdout",
     "output_type": "stream",
     "text": [
      "<!DOCTYPE HTML>\n",
      "<html lang=\"ko\">\n",
      "<head>\n",
      "    <meta http-equiv=\"Content-Type\" content=\"text/html; charset=utf-8\"/>\n",
      "    <meta name=\"viewport\" content=\"width=device-width,initial-scale=1.0,maximum-scale=1.0,minimum-scale=1.0,user-scalable=no\">\n",
      "    <meta name=\"description\" lang=\"ko\" content=\"ì ì í ë¤ì íì¸í´ì£¼ì¸ì! : ë¤ì´ë² ì¼í\">\n",
      "    <title>ìë¬ íì´ì§ : ë¤ì´ë² ì¼í</title>\n",
      "    <link rel=\"stylesheet\" type=\"text/css\" href=\"https://shopv.pstatic.net/web/maintenance/limit/naver_error.css\">\n",
      "    <script src=\"https://shopv.pstatic.net/web/maintenance/limit/grafolio.js\"></script>\n",
      "</head>\n",
      "<body>\n",
      "<div id=\"u_skip\" class=\"u_skip\">\n",
      "    <a href=\"#content\">ë³¸ë¬¸ ë°ë¡ê°ê¸°</a>\n",
      "</div>\n",
      "<div class=\"wrap\">\n",
      "    <div class=\"header\" role=\"banner\">\n",
      "        <h1 class=\"logo\">\n",
      "            <a href=\"https://naver.com\" class=\"logo_link\">\n",
      "                <img src=\"https://shopv.pstatic.net/web/maintenance/limit/naver_logo.png\" width=\"90\" height=\"16\" alt=\"ë¤ì´ë²\">\n",
      "            </a>\n",
      "        </h1>\n",
      "        <div class=\"nav\" role=\"navigation\">\n",
      "            <a href=\"https://naver.com\" class=\"nav_link\">ë¤ì´ë²í</a>\n",
      "            <a href=\"https://help.pay.naver.com\" class=\"nav_link\">ì¼í&íì´ ê³ ê°ì¼í°</a>\n",
      "        </div>\n",
      "    </div>\n",
      "    <hr>\n",
      "    <div class=\"container\" role=\"main\">\n",
      "        <div class=\"content\" id=\"content\">\n",
      "            <div class=\"image_area _errorImage\"></div>\n",
      "\n",
      "            <div class=\"info_area\">\n",
      "                <div class=\"info_txt\">\n",
      "                    <strong class=\"tit\">ì ì í ë¤ì íì¸í´ì£¼ì¸ì!</strong>\n",
      "                    <p class=\"txt\">\n",
      "                        ì§ê¸ ì´ ìë¹ì¤ì ì°ê²°í  ì ììµëë¤.<br>\n",
      "                        ë¬¸ì ë¥¼ í´ê²°íê¸° ìí´ ì´ì¬í ë¸ë ¥íê³  ììµëë¤.<br>\n",
      "                        ì ì í ë¤ì íì¸í´ì£¼ì¸ì.\n",
      "                    </p>\n",
      "                </div>\n",
      "                <div class=\"info_link\">\n",
      "                    <a href=\"javascript:history.go(-1)\" class=\"link_prev\">ì´ì  íì´ì§</a><a href=\"https://shopping.naver.com\" class=\"link_home\">ë¤ì´ë² ì¼í í</a>\n",
      "                </div>\n",
      "            </div>\n",
      "        </div>\n",
      "    </div>\n",
      "    <hr>\n",
      "    <div class=\"footer\" role=\"contentinfo\">\n",
      "        <address>\n",
      "            <span>Copyright</span> Â©<a href=\"http://www.navercorp.com\" class=\"link_naver\" target=\"_blank\">NAVER Corp.</a> <span>All Rights Reserved.</span>\n",
      "        </address>\n",
      "    </div>\n",
      "</div>\n",
      "</body>\n",
      "</html>\n"
     ]
    }
   ],
   "source": [
    "# %pip \n",
    "import requests\n",
    "response = requests.get(\"https://shopping.naver.com/window-products/directfarm/6995266622?NaPm=ct%3Dm4w16x39%7Cci%3Dshoppingwindow%7Ctr%3Dswl%7Chk%3D00a77ee87d3f16c16b0895dd67c6c5813134fdd6%7Ctrx%3D\")\n",
    "html = response.text\n",
    "print(html)"
   ]
  },
  {
   "cell_type": "code",
   "execution_count": 10,
   "metadata": {},
   "outputs": [],
   "source": [
    "from bs4 import BeautifulSoup\n",
    "\n",
    "soup = BeautifulSoup(html,'html.parser')"
   ]
  },
  {
   "cell_type": "code",
   "execution_count": 12,
   "metadata": {},
   "outputs": [],
   "source": [
    "from bs4 import BeautifulSoup\n",
    "\n",
    "html_str = '''\n",
    "<html>\n",
    "    <body>\n",
    "        <div id=\"content\">\n",
    "            <ul class = 'industry'>\n",
    "                <li>인공지능</li>\n",
    "                <li>빅데이터</li>\n",
    "                <li>스마트팩토리</li>\n",
    "            </ul>\n",
    "            <ul class = 'comlang'>\n",
    "                <li>Python</li>\n",
    "                <li>C++</li>\n",
    "                <li>Javascript</li>\n",
    "            </ul>\n",
    "        </div>\n",
    "    </body>\n",
    "</html>\n",
    "'''\n",
    "soup = BeautifulSoup(html_str,\"html.parser\")"
   ]
  },
  {
   "cell_type": "code",
   "execution_count": 15,
   "metadata": {},
   "outputs": [
    {
     "name": "stdout",
     "output_type": "stream",
     "text": [
      "<ul class=\"industry\">\n",
      "<li>인공지능</li>\n",
      "<li>빅데이터</li>\n",
      "<li>스마트팩토리</li>\n",
      "</ul>\n",
      "\n",
      "인공지능\n",
      "빅데이터\n",
      "스마트팩토리\n",
      "\n",
      "\n",
      "인공지능\n",
      "빅데이터\n",
      "스마트팩토리\n",
      "\n"
     ]
    }
   ],
   "source": [
    "first_ul = soup.find('ul')\n",
    "print(first_ul)\n",
    "print(first_ul.text) # ul이 두개 있으나 위에있는것만 찾았다.\n",
    "print(first_ul.get_text())"
   ]
  },
  {
   "cell_type": "code",
   "execution_count": 18,
   "metadata": {},
   "outputs": [
    {
     "name": "stdout",
     "output_type": "stream",
     "text": [
      "[<li>인공지능</li>, <li>빅데이터</li>, <li>스마트팩토리</li>]\n",
      "<li>인공지능</li>\n",
      "인공지능\n",
      "인공지능\n",
      "빅데이터\n",
      "스마트팩토리\n"
     ]
    }
   ],
   "source": [
    "all_list = first_ul.findAll('li')\n",
    "print(all_list)\n",
    "print(all_list[0])\n",
    "print(all_list[0].text)\n",
    "\n",
    "for li in all_list:\n",
    "    print(li.text)"
   ]
  },
  {
   "cell_type": "code",
   "execution_count": 29,
   "metadata": {},
   "outputs": [
    {
     "name": "stdout",
     "output_type": "stream",
     "text": [
      "<ul class=\"comlang\">\n",
      "<li>Python</li>\n",
      "<li>C++</li>\n",
      "<li>Javascript</li>\n",
      "</ul>\n",
      "\n",
      "Python\n",
      "C++\n",
      "Javascript\n",
      "\n"
     ]
    }
   ],
   "source": [
    "find_ul = soup.find('ul',class_='comlang')\n",
    "print(find_ul)\n",
    "print(find_ul.text)"
   ]
  },
  {
   "cell_type": "code",
   "execution_count": 31,
   "metadata": {},
   "outputs": [
    {
     "name": "stdout",
     "output_type": "stream",
     "text": [
      "<ul class=\"industry\">\n",
      "<li>인공지능</li>\n",
      "<li>빅데이터</li>\n",
      "<li>스마트팩토리</li>\n",
      "</ul>\n",
      "\n",
      "인공지능\n",
      "빅데이터\n",
      "스마트팩토리\n",
      "\n"
     ]
    }
   ],
   "source": [
    "f_ul = soup.select_one('ul.industry')\n",
    "print(f_ul)\n",
    "print(f_ul.text)"
   ]
  },
  {
   "cell_type": "code",
   "execution_count": 35,
   "metadata": {},
   "outputs": [
    {
     "name": "stdout",
     "output_type": "stream",
     "text": [
      "[<li>인공지능</li>, <li>빅데이터</li>, <li>스마트팩토리</li>]\n",
      "<li>인공지능</li>\n",
      "인공지능\n",
      "인공지능\n",
      "빅데이터\n",
      "스마트팩토리\n"
     ]
    }
   ],
   "source": [
    "all_li = f_ul.select('li')\n",
    "print(all_li)\n",
    "print(all_li[0])\n",
    "print(all_li[0].text)\n",
    "\n",
    "for li in all_li:\n",
    "    print(li.text)"
   ]
  },
  {
   "cell_type": "code",
   "execution_count": 40,
   "metadata": {},
   "outputs": [
    {
     "name": "stdout",
     "output_type": "stream",
     "text": [
      "[<li>인공지능</li>, <li>빅데이터</li>, <li>스마트팩토리</li>]\n",
      "<li>인공지능</li>\n",
      "인공지능\n"
     ]
    }
   ],
   "source": [
    "all_li = soup.select('ul.industry > li')\n",
    "print(all_li)\n",
    "print(all_li[0])\n",
    "print(all_li[0].text)"
   ]
  },
  {
   "cell_type": "code",
   "execution_count": 41,
   "metadata": {},
   "outputs": [],
   "source": [
    "# all_p = soup.select('div p')\n",
    "# print(all_p)\n"
   ]
  },
  {
   "cell_type": "code",
   "execution_count": 45,
   "metadata": {},
   "outputs": [
    {
     "name": "stdout",
     "output_type": "stream",
     "text": [
      "[<div id=\"content\">\n",
      "<ul class=\"industry\">\n",
      "<li>인공지능</li>\n",
      "<li>빅데이터</li>\n",
      "<li>스마트팩토리</li>\n",
      "</ul>\n",
      "<ul class=\"comlang\">\n",
      "<li>Python</li>\n",
      "<li>C++</li>\n",
      "<li>Javascript</li>\n",
      "</ul>\n",
      "</div>]\n",
      "\n",
      "\n",
      "인공지능\n",
      "빅데이터\n",
      "스마트팩토리\n",
      "\n",
      "\n",
      "Python\n",
      "C++\n",
      "Javascript\n",
      "\n",
      "\n"
     ]
    }
   ],
   "source": [
    "idid = soup.select('#content')\n",
    "print(idid)\n",
    "print(idid[0].text)"
   ]
  },
  {
   "cell_type": "code",
   "execution_count": 47,
   "metadata": {},
   "outputs": [
    {
     "name": "stdout",
     "output_type": "stream",
     "text": [
      "[<ul class=\"industry\">\n",
      "<li>인공지능</li>\n",
      "<li>빅데이터</li>\n",
      "<li>스마트팩토리</li>\n",
      "</ul>]\n",
      "\n",
      "인공지능\n",
      "빅데이터\n",
      "스마트팩토리\n",
      "\n"
     ]
    }
   ],
   "source": [
    "idid = soup.select('.industry')\n",
    "print(idid)\n",
    "print(idid[0].text)"
   ]
  },
  {
   "cell_type": "code",
   "execution_count": 59,
   "metadata": {},
   "outputs": [],
   "source": [
    "sss = '''\n",
    "<div class=\"a\">\n",
    "    <a href = \"http://naver.com\" class=\"des_thumb\"></a>\n",
    "    </div>\n",
    "'''\n",
    "soup = BeautifulSoup(sss,\"html.parser\")"
   ]
  },
  {
   "cell_type": "code",
   "execution_count": 62,
   "metadata": {},
   "outputs": [
    {
     "name": "stdout",
     "output_type": "stream",
     "text": [
      "<a class=\"des_thumb\" href=\"http://naver.com\"></a>\n",
      "http://naver.com\n",
      "['des_thumb']\n"
     ]
    }
   ],
   "source": [
    "b = soup.select_one('div a')\n",
    "print(b)\n",
    "print(b['href'])\n",
    "print(b['class'])"
   ]
  },
  {
   "cell_type": "code",
   "execution_count": 7,
   "metadata": {},
   "outputs": [
    {
     "name": "stdout",
     "output_type": "stream",
     "text": [
      "R&D예산 삭감·AI 열풍…올해 벤처업계 10대 뉴스 발표\n",
      "https://www.newsis.com/view/NISX20241220_0003004696\n"
     ]
    }
   ],
   "source": [
    "sss = '''\n",
    "<div class = \"a\">\n",
    "    <a href = <a href=\"https://www.newsis.com/view/NISX20241220_0003004696\" class=\"news_tit\" target=\"_blank\" onclick=\"return goOtherCR(this, 'a=nws_all*h.tit&amp;r=1&amp;i=88000127_000000000000000012973323&amp;g=003.0012973323&amp;u='+urlencode(this.href));\" title=\"R&amp;D예산 삭감·AI 열풍…올해 벤처업계 10대 뉴스 발표\">R&amp;D예산 삭감·AI 열풍…올해 벤처업계 10대 <mark>뉴스</mark> 발표</a>\n",
    "    </div>\n",
    "'''\n",
    "soup = BeautifulSoup(sss,'html.parser')\n",
    "b = soup.select_one('div a')\n",
    "print(b.text)\n",
    "print(b['href'])"
   ]
  },
  {
   "cell_type": "code",
   "execution_count": 1,
   "metadata": {},
   "outputs": [
    {
     "ename": "AttributeError",
     "evalue": "'str' object has no attribute 'text'",
     "output_type": "error",
     "traceback": [
      "\u001b[1;31m---------------------------------------------------------------------------\u001b[0m",
      "\u001b[1;31mAttributeError\u001b[0m                            Traceback (most recent call last)",
      "Cell \u001b[1;32mIn[1], line 3\u001b[0m\n\u001b[0;32m      1\u001b[0m a \u001b[38;5;241m=\u001b[39m \u001b[38;5;28minput\u001b[39m(\u001b[38;5;124m\"\u001b[39m\u001b[38;5;124m주소입력 :\u001b[39m\u001b[38;5;124m\"\u001b[39m)\n\u001b[0;32m      2\u001b[0m a1 \u001b[38;5;241m=\u001b[39m \u001b[38;5;124mf\u001b[39m\u001b[38;5;124m\"\u001b[39m\u001b[38;5;124mhttps://search.naver.com/search.naver?&where=news&query=\u001b[39m\u001b[38;5;132;01m{\u001b[39;00ma\u001b[38;5;132;01m}\u001b[39;00m\u001b[38;5;124m\"\u001b[39m\n\u001b[1;32m----> 3\u001b[0m a2 \u001b[38;5;241m=\u001b[39m a1\u001b[38;5;241m.\u001b[39mtext\n\u001b[0;32m      4\u001b[0m soup \u001b[38;5;241m=\u001b[39m BeautifulSoup(a1,\u001b[38;5;124m'\u001b[39m\u001b[38;5;124mhtml.parser\u001b[39m\u001b[38;5;124m'\u001b[39m)\n\u001b[0;32m      5\u001b[0m a2 \u001b[38;5;241m=\u001b[39m soup\u001b[38;5;241m.\u001b[39mselect_one(\u001b[38;5;124m'\u001b[39m\u001b[38;5;124m.news_tit\u001b[39m\u001b[38;5;124m'\u001b[39m)\n",
      "\u001b[1;31mAttributeError\u001b[0m: 'str' object has no attribute 'text'"
     ]
    }
   ],
   "source": [
    "# a = input(\"주소입력 :\")\n",
    "# a1 = f\"https://search.naver.com/search.naver?&where=news&query={a}\"\n",
    "# a2 = a1.text\n",
    "# soup = BeautifulSoup(a1,'html.parser')\n",
    "# a2 = soup.select_one('.news_tit')\n",
    "# print(a2.text)\n",
    "# print(a2['href'])"
   ]
  },
  {
   "cell_type": "code",
   "execution_count": 1,
   "metadata": {},
   "outputs": [],
   "source": [
    "import openpyxl\n",
    "wb = openpyxl.Workbook()\n",
    "ws = wb.create_sheet('codingon')\n",
    "\n",
    "ws['A1'] = '이름'\n",
    "ws['B1'] = '영어이름'\n",
    "\n",
    "ws['A2'] = '김민창'\n",
    "ws['B2'] = 'Kim minhcnag'\n",
    "\n",
    "wb.save('test.xlsx') #csv로도 할수 있다고 하셨다."
   ]
  },
  {
   "cell_type": "code",
   "execution_count": 114,
   "metadata": {},
   "outputs": [],
   "source": [
    "wb = openpyxl.load_workbook(r'test.xlsx')\n",
    "ws = wb['codingon']\n",
    "\n",
    "ws['A3'] = '11111'\n",
    "ws['B3'] = '22222'\n",
    "\n",
    "wb.save('test.xlsx')"
   ]
  },
  {
   "cell_type": "code",
   "execution_count": 118,
   "metadata": {},
   "outputs": [],
   "source": [
    "wb = openpyxl.Workbook()\n",
    "\n",
    "ws = wb.active\n",
    "ws.title = 'Data'\n",
    "\n",
    "data = [['name','fjkljkl','kkk','fjkkkkk','djdjdj','jjddd']]\n",
    "\n",
    "for row in data:\n",
    "    ws.append(row)\n",
    "\n",
    "wb.save('test.xlsx')"
   ]
  },
  {
   "cell_type": "code",
   "execution_count": 6,
   "metadata": {},
   "outputs": [
    {
     "name": "stdout",
     "output_type": "stream",
     "text": [
      "미국 USD 1,449.50\n",
      "일본 JPY(100엔) 928.16\n",
      "유럽연합 EUR 1,512.12\n",
      "중국 CNY 198.66\n"
     ]
    }
   ],
   "source": [
    "import requests\n",
    "from bs4 import BeautifulSoup\n",
    "\n",
    "response = requests.get(\"https://finance.naver.com/marketindex/\")\n",
    "html = response.text\n",
    "soup = BeautifulSoup(html,'html.parser')\n",
    "zz = soup.select('h3.h_lst span.blind')\n",
    "xx = soup.select('span.value')\n",
    "zixixi = zip(zz,xx)\n",
    "listed = list(zixixi)[:4]\n",
    "\n",
    "for i,j in listed:\n",
    "    print(i.text,j.text)\n",
    "# for i in zz:\n",
    "#     print(i.text)\n"
   ]
  },
  {
   "cell_type": "code",
   "execution_count": 2,
   "metadata": {},
   "outputs": [],
   "source": [
    "from openpyxl import Workbook\n",
    "wb = Workbook()\n",
    "ws = wb.create_sheet(\"증권\")\n",
    "for name, value in listed:\n",
    "    ws.append([name.text, value.text])\n",
    "wb.save(\"test.xlsx\")\n",
    "\n",
    "\n"
   ]
  }
 ],
 "metadata": {
  "kernelspec": {
   "display_name": "base",
   "language": "python",
   "name": "python3"
  },
  "language_info": {
   "codemirror_mode": {
    "name": "ipython",
    "version": 3
   },
   "file_extension": ".py",
   "mimetype": "text/x-python",
   "name": "python",
   "nbconvert_exporter": "python",
   "pygments_lexer": "ipython3",
   "version": "3.12.7"
  }
 },
 "nbformat": 4,
 "nbformat_minor": 2
}
