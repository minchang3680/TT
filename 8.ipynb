{
 "cells": [
  {
   "cell_type": "code",
   "execution_count": 31,
   "metadata": {},
   "outputs": [
    {
     "name": "stdout",
     "output_type": "stream",
     "text": [
      "Requirement already satisfied: selenium in c:\\users\\minch\\anaconda3\\lib\\site-packages (4.27.1)\n",
      "Requirement already satisfied: urllib3<3,>=1.26 in c:\\users\\minch\\anaconda3\\lib\\site-packages (from urllib3[socks]<3,>=1.26->selenium) (2.2.3)\n",
      "Requirement already satisfied: trio~=0.17 in c:\\users\\minch\\anaconda3\\lib\\site-packages (from selenium) (0.27.0)\n",
      "Requirement already satisfied: trio-websocket~=0.9 in c:\\users\\minch\\anaconda3\\lib\\site-packages (from selenium) (0.11.1)\n",
      "Requirement already satisfied: certifi>=2021.10.8 in c:\\users\\minch\\anaconda3\\lib\\site-packages (from selenium) (2024.12.14)\n",
      "Requirement already satisfied: typing_extensions~=4.9 in c:\\users\\minch\\anaconda3\\lib\\site-packages (from selenium) (4.11.0)\n",
      "Requirement already satisfied: websocket-client~=1.8 in c:\\users\\minch\\anaconda3\\lib\\site-packages (from selenium) (1.8.0)\n",
      "Requirement already satisfied: attrs>=23.2.0 in c:\\users\\minch\\anaconda3\\lib\\site-packages (from trio~=0.17->selenium) (24.3.0)\n",
      "Requirement already satisfied: sortedcontainers in c:\\users\\minch\\anaconda3\\lib\\site-packages (from trio~=0.17->selenium) (2.4.0)\n",
      "Requirement already satisfied: idna in c:\\users\\minch\\anaconda3\\lib\\site-packages (from trio~=0.17->selenium) (3.7)\n",
      "Requirement already satisfied: outcome in c:\\users\\minch\\anaconda3\\lib\\site-packages (from trio~=0.17->selenium) (1.3.0.post0)\n",
      "Requirement already satisfied: sniffio>=1.3.0 in c:\\users\\minch\\anaconda3\\lib\\site-packages (from trio~=0.17->selenium) (1.3.0)\n",
      "Requirement already satisfied: cffi>=1.14 in c:\\users\\minch\\anaconda3\\lib\\site-packages (from trio~=0.17->selenium) (1.17.1)\n",
      "Requirement already satisfied: wsproto>=0.14 in c:\\users\\minch\\anaconda3\\lib\\site-packages (from trio-websocket~=0.9->selenium) (1.2.0)\n",
      "Requirement already satisfied: pysocks!=1.5.7,<2.0,>=1.5.6 in c:\\users\\minch\\anaconda3\\lib\\site-packages (from urllib3[socks]<3,>=1.26->selenium) (1.7.1)\n",
      "Requirement already satisfied: pycparser in c:\\users\\minch\\anaconda3\\lib\\site-packages (from cffi>=1.14->trio~=0.17->selenium) (2.21)\n",
      "Requirement already satisfied: h11<1,>=0.9.0 in c:\\users\\minch\\anaconda3\\lib\\site-packages (from wsproto>=0.14->trio-websocket~=0.9->selenium) (0.14.0)\n",
      "Note: you may need to restart the kernel to use updated packages.\n"
     ]
    }
   ],
   "source": [
    "%pip install --upgrade selenium"
   ]
  },
  {
   "cell_type": "code",
   "execution_count": 23,
   "metadata": {},
   "outputs": [],
   "source": [
    "from selenium import webdriver\n",
    "from selenium.webdriver.chrome.options import Options\n",
    "from selenium.webdriver.common.by import By\n",
    "from selenium.webdriver.common.keys import Keys\n",
    "\n",
    "import time\n",
    "\n",
    "# options 객체를 만들지 않으면 실행시 브라우저 창이 꺼짐\n",
    "options = Options()\n",
    "options.add_argument(\"--start-maximized\") #창크기 최대화\n",
    "options.add_experimental_option('detach', True)\n",
    "\n",
    "driver = webdriver.Chrome(options=options)  \n",
    "\n",
    "url = \"https://www.naver.com/\"\n",
    "driver.get(url)\n",
    "\n",
    "driver.find_element(By.ID,\"query\").send_keys(\"악동뮤지션\")\n",
    "# 검색어 입력후 2초 대기 후 클릭 됨"
   ]
  },
  {
   "cell_type": "code",
   "execution_count": null,
   "metadata": {},
   "outputs": [],
   "source": [
    "driver.find_element(By.ID,\"query\").send_keys(\"악동뮤지션\")\n",
    "# 검색어 입력후 2초 대기 후 클릭 됨\n"
   ]
  },
  {
   "cell_type": "code",
   "execution_count": 2,
   "metadata": {},
   "outputs": [
    {
     "ename": "NameError",
     "evalue": "name 'driver' is not defined",
     "output_type": "error",
     "traceback": [
      "\u001b[1;31m---------------------------------------------------------------------------\u001b[0m",
      "\u001b[1;31mNameError\u001b[0m                                 Traceback (most recent call last)",
      "Cell \u001b[1;32mIn[2], line 16\u001b[0m\n\u001b[0;32m      1\u001b[0m \u001b[38;5;66;03m# # 창 열리고 3초 대기후에 검색어 입력됨\u001b[39;00m\n\u001b[0;32m      2\u001b[0m \u001b[38;5;66;03m# time.sleep(3)\u001b[39;00m\n\u001b[0;32m      3\u001b[0m \n\u001b[1;32m   (...)\u001b[0m\n\u001b[0;32m     14\u001b[0m \n\u001b[0;32m     15\u001b[0m \u001b[38;5;66;03m# 엔터 쳐서 검색\u001b[39;00m\n\u001b[1;32m---> 16\u001b[0m driver\u001b[38;5;241m.\u001b[39mfind_element(By\u001b[38;5;241m.\u001b[39mID, \u001b[38;5;124m\"\u001b[39m\u001b[38;5;124mquery\u001b[39m\u001b[38;5;124m\"\u001b[39m)\u001b[38;5;241m.\u001b[39msend_keys(Keys\u001b[38;5;241m.\u001b[39mENTER)\n\u001b[0;32m     17\u001b[0m time\u001b[38;5;241m.\u001b[39msleep(\u001b[38;5;241m2\u001b[39m)\n\u001b[0;32m     19\u001b[0m \u001b[38;5;66;03m# 스크린 샷 \u001b[39;00m\n",
      "\u001b[1;31mNameError\u001b[0m: name 'driver' is not defined"
     ]
    }
   ],
   "source": [
    "# # 창 열리고 3초 대기후에 검색어 입력됨\n",
    "# time.sleep(3)\n",
    "\n",
    "# # 검색어 입력 - id 선택자\n",
    "# query = driver.find_element(By.ID, \"query\")\n",
    "# query.send_keys(\"빅데이터\")\n",
    "# driver.find_element(By.ID, \"query\").send_keys(\"빅데이터\")\n",
    "# # 검색어 입력후 2초 대기 후 클릭됨\n",
    "# time.sleep(2)\n",
    "\n",
    "# # 검색 버튼 클릭\n",
    "# search_btn = driver.find_element(By.CSS_SELECTOR, \"#search-btn\")\n",
    "# search_btn.click()\n",
    "\n",
    "# # 엔터 쳐서 검색\n",
    "# driver.find_element(By.ID, \"query\").send_keys(Keys.ENTER)\n",
    "# time.sleep(2)\n",
    "\n",
    "# 스크린 샷 \n",
    "# driver.save_screenshot(\"./crawling/스팩.png\")\n",
    "\n",
    "# driver.quit()"
   ]
  },
  {
   "cell_type": "code",
   "execution_count": 17,
   "metadata": {},
   "outputs": [
    {
     "name": "stdout",
     "output_type": "stream",
     "text": [
      "\n",
      "\n",
      "\n",
      "\n",
      "\n",
      "\n",
      "네이버쇼핑\n",
      "\n",
      "\n",
      "\n",
      "쇼핑 서비스 접속이 일시적으로 제한되었습니다. \n",
      "\n",
      "    네이버는 안정적인 쇼핑 서비스 제공하고자 시스템을 통해 아래와 같은 비정상적인 접근이 감지될 경우 해당 네트워크의 접속을 일시적으로 제한하고 있습니다.\n",
      "  \n",
      "\n",
      "상품 구매, 탐색과 무관한 외부 이벤트를 통한 접속\n",
      "짧은 시간 내에 너무 많은 요청이 이루어진 IP\n",
      "VPN을 사용하여 접속한 IP\n",
      "특정 확장 프로그램 이용 시\n",
      "\n",
      "위와 같은 접근이 아님에도 접속이 제한된 경우,네이버앱을 업데이트 또는 원클릭 진단을 부탁드립니다. 해당 방법을 통해서도 접속이 불가한 경우 네이버쇼핑 고객센터로 문의 부탁드립니다.\n",
      "\n",
      "\n",
      "\n",
      "\n"
     ]
    }
   ],
   "source": [
    "from selenium import webdriver\n",
    "from selenium.webdriver.chrome.options import Options\n",
    "from selenium.webdriver.common.by import By\n",
    "from selenium.webdriver.common.keys import Keys\n",
    "import requests\n",
    "from bs4 import BeautifulSoup\n",
    "\n",
    "# import time\n",
    "# current_height = driver.execute_script(\"return window.scrollY\")\n",
    "\n",
    "# count = 0\n",
    "\n",
    "# while True:\n",
    "#     driver.find_element(By.CSS_SELECTOR, 'body').send_keys(Keys.END)\n",
    "#     time.sleep(1)\n",
    "    \n",
    "#     scrolled_height = driver.execute_script(\"return window.scrollY\")\n",
    "    \n",
    "#     if (current_height == scrolled_height):\n",
    "#         break\n",
    "    \n",
    "#     if count > 1:\n",
    "#         break\n",
    "#     count+=1\n",
    "    \n",
    "#     current_height = scrolled_height\n",
    "\n",
    "# options = Options()\n",
    "# options.add_argument(\"--start-maximized\") #창크기 최대화\n",
    "# options.add_experimental_option('detach', True)\n",
    "\n",
    "# driver = webdriver.Chrome(options=options)  \n",
    "\n",
    "# url = \"https://shopping.naver.com/home\"\n",
    "# driver.get(url)\n",
    "\n",
    "# 네이버 쇼핑에서 검색 및 텍스트 긁어오기.\n",
    "# ii = input(\"검색창 : \")\n",
    "# response =  requests.get(f\"https://search.shopping.naver.com/ns/search?query={ii}\")\n",
    "# html = response.text\n",
    "# soup= BeautifulSoup(html,'html.parser')\n",
    "\n",
    "# print(soup.text)\n",
    "\n",
    "\n",
    "\n"
   ]
  },
  {
   "cell_type": "code",
   "execution_count": null,
   "metadata": {},
   "outputs": [],
   "source": []
  }
 ],
 "metadata": {
  "kernelspec": {
   "display_name": "base",
   "language": "python",
   "name": "python3"
  },
  "language_info": {
   "codemirror_mode": {
    "name": "ipython",
    "version": 3
   },
   "file_extension": ".py",
   "mimetype": "text/x-python",
   "name": "python",
   "nbconvert_exporter": "python",
   "pygments_lexer": "ipython3",
   "version": "3.12.7"
  }
 },
 "nbformat": 4,
 "nbformat_minor": 2
}
